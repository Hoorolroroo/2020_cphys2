{
 "cells": [
  {
   "cell_type": "markdown",
   "metadata": {},
   "source": [
    "## 1. 구구단 함수"
   ]
  },
  {
   "cell_type": "code",
   "execution_count": 1,
   "metadata": {},
   "outputs": [],
   "source": [
    "import numpy as np\n",
    "def googoodan(a):\n",
    "    x=[1,2,3,4,5,6,7,8,9]\n",
    "    return [i*a for i in x]"
   ]
  },
  {
   "cell_type": "code",
   "execution_count": 11,
   "metadata": {},
   "outputs": [
    {
     "data": {
      "text/plain": [
       "([2, 4, 6, 8, 10, 12, 14, 16, 18],\n",
       " [3, 6, 9, 12, 15, 18, 21, 24, 27],\n",
       " [4, 8, 12, 16, 20, 24, 28, 32, 36],\n",
       " [5, 10, 15, 20, 25, 30, 35, 40, 45])"
      ]
     },
     "execution_count": 11,
     "metadata": {},
     "output_type": "execute_result"
    }
   ],
   "source": [
    "googoodan(2), googoodan(3), googoodan(4), googoodan(5)"
   ]
  },
  {
   "cell_type": "markdown",
   "metadata": {},
   "source": [
    "## 2. 홀수/짝수 판별"
   ]
  },
  {
   "cell_type": "code",
   "execution_count": 23,
   "metadata": {},
   "outputs": [
    {
     "name": "stdout",
     "output_type": "stream",
     "text": [
      "정수 x=7\n",
      "홀수입니다.\n"
     ]
    }
   ],
   "source": [
    "x=int(input(\"정수 x=\"))\n",
    "\n",
    "if(x%2==1):\n",
    "    print(\"홀수입니다.\")\n",
    "else:\n",
    "    print(\"짝수입니다.\")"
   ]
  },
  {
   "cell_type": "markdown",
   "metadata": {},
   "source": [
    "## 3. 평균"
   ]
  },
  {
   "cell_type": "code",
   "execution_count": 31,
   "metadata": {},
   "outputs": [
    {
     "name": "stdout",
     "output_type": "stream",
     "text": [
      "80 90 70\n",
      "[80, 90, 70]\n"
     ]
    }
   ],
   "source": [
    "list1 = list(map(int, input().split())) #원하는 리스트를 입력하시오.\n",
    "print(list1)"
   ]
  },
  {
   "cell_type": "code",
   "execution_count": 33,
   "metadata": {},
   "outputs": [
    {
     "data": {
      "text/plain": [
       "80.0"
      ]
     },
     "execution_count": 33,
     "metadata": {},
     "output_type": "execute_result"
    }
   ],
   "source": [
    "sum = 0   #평균을 구하는 함수를 만들기 전에, 리스트의 합을 미리 sum() 함수 대신 반복문으로 만들어 놓자.\n",
    "for i in range(len(list1)):\n",
    "    sum = sum + list1[i]\n",
    "\n",
    "def average(list1):\n",
    "    return sum/len(list1)\n",
    "average(list1)"
   ]
  }
 ],
 "metadata": {
  "kernelspec": {
   "display_name": "Python 3",
   "language": "python",
   "name": "python3"
  },
  "language_info": {
   "codemirror_mode": {
    "name": "ipython",
    "version": 3
   },
   "file_extension": ".py",
   "mimetype": "text/x-python",
   "name": "python",
   "nbconvert_exporter": "python",
   "pygments_lexer": "ipython3",
   "version": "3.7.6"
  }
 },
 "nbformat": 4,
 "nbformat_minor": 4
}
