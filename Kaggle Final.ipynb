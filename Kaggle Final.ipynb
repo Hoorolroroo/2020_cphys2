{
 "cells": [
  {
   "cell_type": "code",
   "execution_count": 1,
   "metadata": {},
   "outputs": [],
   "source": [
    "import numpy as np # linear algebra\n",
    "import pandas as pd # data processing, CSV file I/O (e.g. pd.read_csv)\n",
    "\n",
    "# Input data files are available in the read-only \"../input/\" directory\n",
    "# For example, running this (by clicking run or pressing Shift+Enter) will list all files under the input directory\n",
    "\n",
    "import os"
   ]
  },
  {
   "cell_type": "code",
   "execution_count": 2,
   "metadata": {},
   "outputs": [],
   "source": [
    "df=pd.read_csv('c:/python/y_train.csv')\n",
    "df_1=pd.read_csv('c:/python/y_test.csv')\n",
    "y_dic=df['y'].to_numpy()\n",
    "y_dic\n",
    "y_dic_1=df_1['y'].to_numpy()"
   ]
  },
  {
   "cell_type": "code",
   "execution_count": 3,
   "metadata": {},
   "outputs": [],
   "source": [
    "import glob \n",
    "from PIL import Image\n",
    "\n",
    "TRAIN_DIR=\"c:/python/train_fig/train_fig\"\n",
    "TEST_DIR=\"c:/python/test_fig/test_fig\"\n",
    "\n",
    "def load_data():\n",
    "    file_list = glob.glob(TRAIN_DIR + \"/*.jpg\")\n",
    "    x = []\n",
    "    y = []\n",
    "    \n",
    "    for fname in file_list:\n",
    "        with Image.open(fname) as img:\n",
    "            np_img = np.array(img)\n",
    "        label = int(fname[-8:-4]) \n",
    "\n",
    "        x.append(np_img)\n",
    "        y.append(y_dic[label])\n",
    "        \n",
    "    x, y = np.array(x), np.array(y)\n",
    "    x = np.expand_dims(x, -1)\n",
    "    x = x / 255.\n",
    "    return x, y\n",
    "    \n",
    "X_train, y_train = load_data()"
   ]
  },
  {
   "cell_type": "code",
   "execution_count": 4,
   "metadata": {},
   "outputs": [
    {
     "data": {
      "text/plain": [
       "<matplotlib.image.AxesImage at 0x1648daf6080>"
      ]
     },
     "execution_count": 4,
     "metadata": {},
     "output_type": "execute_result"
    },
    {
     "data": {
      "image/png": "[encoded data removed]",
      "text/plain": [
       "<Figure size 432x288 with 4 Axes>"
      ]
     },
     "metadata": {
      "needs_background": "light"
     },
     "output_type": "display_data"
    }
   ],
   "source": [
    "import matplotlib.pyplot as plt\n",
    "plt.subplot(141)\n",
    "plt.imshow(X_train[0].squeeze(2))\n",
    "plt.subplot(142)\n",
    "plt.imshow(X_train[1].squeeze(2))\n",
    "plt.subplot(143)\n",
    "plt.imshow(X_train[2].squeeze(2))\n",
    "plt.subplot(144)\n",
    "plt.imshow(X_train[3].squeeze(2))"
   ]
  },
  {
   "cell_type": "code",
   "execution_count": 5,
   "metadata": {},
   "outputs": [
    {
     "data": {
      "text/plain": [
       "(0, 9, 3, 12)"
      ]
     },
     "execution_count": 5,
     "metadata": {},
     "output_type": "execute_result"
    }
   ],
   "source": [
    "y_train[0], y_train[1], y_train[2], y_train[3]"
   ]
  },
  {
   "cell_type": "code",
   "execution_count": 6,
   "metadata": {},
   "outputs": [],
   "source": [
    "def load_test():\n",
    "    file_list = glob.glob(TEST_DIR + \"/*.jpg\")\n",
    "    x = [] \n",
    "    y = []\n",
    "    for fname in file_list:\n",
    "        with Image.open(fname) as img:\n",
    "            np_img = np.array(img)\n",
    "        label = int(fname[-8:-4]) \n",
    "\n",
    "        x.append(np_img)\n",
    "        y.append(y_dic_1[label])\n",
    "        \n",
    "    x, y = np.array(x), np.array(y)\n",
    "    x = np.expand_dims(x, -1)\n",
    "    x = x / 255.\n",
    "    return x, y\n",
    "    \n",
    "X_test, y_test = load_test()"
   ]
  },
  {
   "cell_type": "code",
   "execution_count": 7,
   "metadata": {},
   "outputs": [
    {
     "data": {
      "text/plain": [
       "<matplotlib.image.AxesImage at 0x1648dc36ba8>"
      ]
     },
     "execution_count": 7,
     "metadata": {},
     "output_type": "execute_result"
    },
    {
     "data": {
      "image/png": "[encoded data removed]",
      "text/plain": [
       "<Figure size 432x288 with 4 Axes>"
      ]
     },
     "metadata": {
      "needs_background": "light"
     },
     "output_type": "display_data"
    }
   ],
   "source": [
    "import matplotlib.pyplot as plt\n",
    "plt.subplot(141)\n",
    "plt.imshow(X_test[0].squeeze(2))\n",
    "plt.subplot(142)\n",
    "plt.imshow(X_test[1].squeeze(2))\n",
    "plt.subplot(143)\n",
    "plt.imshow(X_test[2].squeeze(2))\n",
    "plt.subplot(144)\n",
    "plt.imshow(X_test[3].squeeze(2))"
   ]
  },
  {
   "cell_type": "code",
   "execution_count": 8,
   "metadata": {},
   "outputs": [
    {
     "name": "stderr",
     "output_type": "stream",
     "text": [
      "Using TensorFlow backend.\n"
     ]
    }
   ],
   "source": [
    "from tensorflow import keras\n",
    "from keras import models \n",
    "from keras import layers"
   ]
  },
  {
   "cell_type": "code",
   "execution_count": 9,
   "metadata": {},
   "outputs": [],
   "source": [
    "from keras.utils import to_categorical\n",
    "\n",
    "y_train=to_categorical(y_train)\n",
    "X_train = X_train.reshape((10000, 64, 64, 1))"
   ]
  },
  {
   "cell_type": "code",
   "execution_count": 23,
   "metadata": {},
   "outputs": [
    {
     "name": "stdout",
     "output_type": "stream",
     "text": [
      "Model: \"sequential_3\"\n",
      "_________________________________________________________________\n",
      "Layer (type)                 Output Shape              Param #   \n",
      "=================================================================\n",
      "conv2d_9 (Conv2D)            (None, 62, 62, 16)        160       \n",
      "_________________________________________________________________\n",
      "conv2d_10 (Conv2D)           (None, 60, 60, 16)        2320      \n",
      "_________________________________________________________________\n",
      "max_pooling2d_3 (MaxPooling2 (None, 30, 30, 16)        0         \n",
      "_________________________________________________________________\n",
      "dropout_5 (Dropout)          (None, 30, 30, 16)        0         \n",
      "_________________________________________________________________\n",
      "conv2d_11 (Conv2D)           (None, 28, 28, 16)        2320      \n",
      "_________________________________________________________________\n",
      "conv2d_12 (Conv2D)           (None, 26, 26, 16)        2320      \n",
      "_________________________________________________________________\n",
      "dropout_6 (Dropout)          (None, 26, 26, 16)        0         \n",
      "_________________________________________________________________\n",
      "flatten_3 (Flatten)          (None, 10816)             0         \n",
      "_________________________________________________________________\n",
      "dense_2 (Dense)              (None, 15)                162255    \n",
      "=================================================================\n",
      "Total params: 169,375\n",
      "Trainable params: 169,375\n",
      "Non-trainable params: 0\n",
      "_________________________________________________________________\n"
     ]
    }
   ],
   "source": [
    "from keras.models import Sequential\n",
    "from keras.layers import Dense, Conv2D, Flatten, MaxPool2D, Dropout, BatchNormalization,LeakyReLU\n",
    "modelc = models.Sequential()\n",
    "modelc.add(layers.Conv2D(16, (3, 3), activation='relu', input_shape=(64, 64, 1)))\n",
    "modelc.add(layers.Conv2D(16, (3, 3), activation='relu'))\n",
    "modelc.add(layers.MaxPooling2D((2, 2)))\n",
    "modelc.add(layers.Dropout(0.5))\n",
    "modelc.add(layers.Conv2D(16, (3, 3), activation='relu'))\n",
    "modelc.add(layers.Conv2D(16, (3, 3), activation='relu'))\n",
    "modelc.add(layers.Dropout(0.5))\n",
    "modelc.add(layers.Flatten())\n",
    "modelc.add(layers.Dense(15, activation='softmax'))\n",
    "modelc.summary()\n",
    "\n",
    "modelc.compile(optimizer='adam',\n",
    "              loss='categorical_crossentropy',\n",
    "              metrics=['accuracy'])"
   ]
  },
  {
   "cell_type": "code",
   "execution_count": 25,
   "metadata": {},
   "outputs": [
    {
     "name": "stdout",
     "output_type": "stream",
     "text": [
      "Train on 8000 samples, validate on 2000 samples\n",
      "Epoch 1/50\n",
      "8000/8000 [==============================] - 78s 10ms/step - loss: 1.6494 - accuracy: 0.4874 - val_loss: 0.8814 - val_accuracy: 0.7275\n",
      "Epoch 2/50\n",
      "8000/8000 [==============================] - 74s 9ms/step - loss: 0.7920 - accuracy: 0.7498 - val_loss: 0.5633 - val_accuracy: 0.8320\n",
      "Epoch 3/50\n",
      "8000/8000 [==============================] - 79s 10ms/step - loss: 0.5309 - accuracy: 0.8276 - val_loss: 0.4132 - val_accuracy: 0.8720\n",
      "Epoch 4/50\n",
      "8000/8000 [==============================] - 81s 10ms/step - loss: 0.4082 - accuracy: 0.8627 - val_loss: 0.3711 - val_accuracy: 0.8970\n",
      "Epoch 5/50\n",
      "8000/8000 [==============================] - 75s 9ms/step - loss: 0.3358 - accuracy: 0.8865 - val_loss: 0.2918 - val_accuracy: 0.9105\n",
      "Epoch 6/50\n",
      "8000/8000 [==============================] - 85s 11ms/step - loss: 0.2823 - accuracy: 0.9057 - val_loss: 0.2560 - val_accuracy: 0.9300\n",
      "Epoch 7/50\n",
      "8000/8000 [==============================] - 79s 10ms/step - loss: 0.2443 - accuracy: 0.9168 - val_loss: 0.2679 - val_accuracy: 0.9215\n",
      "Epoch 8/50\n",
      "8000/8000 [==============================] - 83s 10ms/step - loss: 0.2130 - accuracy: 0.9290 - val_loss: 0.2497 - val_accuracy: 0.9290\n",
      "Epoch 9/50\n",
      "8000/8000 [==============================] - 79s 10ms/step - loss: 0.1986 - accuracy: 0.9319 - val_loss: 0.2349 - val_accuracy: 0.9355\n",
      "Epoch 10/50\n",
      "8000/8000 [==============================] - 84s 11ms/step - loss: 0.1739 - accuracy: 0.9406 - val_loss: 0.2092 - val_accuracy: 0.9440\n",
      "Epoch 11/50\n",
      "8000/8000 [==============================] - 102s 13ms/step - loss: 0.1630 - accuracy: 0.9449 - val_loss: 0.2098 - val_accuracy: 0.9545\n",
      "Epoch 12/50\n",
      "8000/8000 [==============================] - 85s 11ms/step - loss: 0.1608 - accuracy: 0.9435 - val_loss: 0.2195 - val_accuracy: 0.9505\n",
      "Epoch 13/50\n",
      "8000/8000 [==============================] - 80s 10ms/step - loss: 0.1300 - accuracy: 0.9557 - val_loss: 0.2584 - val_accuracy: 0.9355\n",
      "Epoch 14/50\n",
      "8000/8000 [==============================] - 75s 9ms/step - loss: 0.1232 - accuracy: 0.9551 - val_loss: 0.1981 - val_accuracy: 0.9560\n",
      "Epoch 15/50\n",
      "8000/8000 [==============================] - 81s 10ms/step - loss: 0.1221 - accuracy: 0.9560 - val_loss: 0.2088 - val_accuracy: 0.9475\n",
      "Epoch 16/50\n",
      "8000/8000 [==============================] - 84s 11ms/step - loss: 0.1093 - accuracy: 0.9601 - val_loss: 0.1854 - val_accuracy: 0.9580\n",
      "Epoch 17/50\n",
      "8000/8000 [==============================] - 82s 10ms/step - loss: 0.1001 - accuracy: 0.9644 - val_loss: 0.1992 - val_accuracy: 0.9535\n",
      "Epoch 18/50\n",
      "8000/8000 [==============================] - 89s 11ms/step - loss: 0.1135 - accuracy: 0.9610 - val_loss: 0.2201 - val_accuracy: 0.9485\n",
      "Epoch 19/50\n",
      "8000/8000 [==============================] - 74s 9ms/step - loss: 0.0970 - accuracy: 0.9679 - val_loss: 0.1912 - val_accuracy: 0.9525\n",
      "Epoch 20/50\n",
      "8000/8000 [==============================] - 76s 9ms/step - loss: 0.0961 - accuracy: 0.9664 - val_loss: 0.1692 - val_accuracy: 0.9630\n",
      "Epoch 21/50\n",
      "8000/8000 [==============================] - 76s 9ms/step - loss: 0.0811 - accuracy: 0.9721 - val_loss: 0.1817 - val_accuracy: 0.9525\n",
      "Epoch 22/50\n",
      "8000/8000 [==============================] - 82s 10ms/step - loss: 0.0890 - accuracy: 0.9720 - val_loss: 0.1753 - val_accuracy: 0.9590\n",
      "Epoch 23/50\n",
      "8000/8000 [==============================] - 82s 10ms/step - loss: 0.0734 - accuracy: 0.9749 - val_loss: 0.1733 - val_accuracy: 0.9615\n",
      "Epoch 24/50\n",
      "8000/8000 [==============================] - 80s 10ms/step - loss: 0.0727 - accuracy: 0.9756 - val_loss: 0.1700 - val_accuracy: 0.9640\n",
      "Epoch 25/50\n",
      "8000/8000 [==============================] - 84s 11ms/step - loss: 0.0783 - accuracy: 0.9718 - val_loss: 0.1613 - val_accuracy: 0.9640\n",
      "Epoch 26/50\n",
      "8000/8000 [==============================] - 78s 10ms/step - loss: 0.0779 - accuracy: 0.9735 - val_loss: 0.1626 - val_accuracy: 0.9630\n",
      "Epoch 27/50\n",
      "8000/8000 [==============================] - 77s 10ms/step - loss: 0.0654 - accuracy: 0.9790 - val_loss: 0.1765 - val_accuracy: 0.9665\n",
      "Epoch 28/50\n",
      "8000/8000 [==============================] - 81s 10ms/step - loss: 0.0659 - accuracy: 0.9751 - val_loss: 0.2176 - val_accuracy: 0.9560\n",
      "Epoch 29/50\n",
      "8000/8000 [==============================] - 87s 11ms/step - loss: 0.0691 - accuracy: 0.9770 - val_loss: 0.1694 - val_accuracy: 0.9610\n",
      "Epoch 30/50\n",
      "8000/8000 [==============================] - 80s 10ms/step - loss: 0.0682 - accuracy: 0.9761 - val_loss: 0.1815 - val_accuracy: 0.9625\n",
      "Epoch 31/50\n",
      "8000/8000 [==============================] - 86s 11ms/step - loss: 0.0558 - accuracy: 0.9812 - val_loss: 0.1945 - val_accuracy: 0.9575\n",
      "Epoch 32/50\n",
      "8000/8000 [==============================] - 90s 11ms/step - loss: 0.0618 - accuracy: 0.9791 - val_loss: 0.1628 - val_accuracy: 0.9675\n",
      "Epoch 33/50\n",
      "8000/8000 [==============================] - 115s 14ms/step - loss: 0.0627 - accuracy: 0.9772 - val_loss: 0.1784 - val_accuracy: 0.9645\n",
      "Epoch 34/50\n",
      "8000/8000 [==============================] - 88s 11ms/step - loss: 0.0520 - accuracy: 0.9808 - val_loss: 0.2005 - val_accuracy: 0.9630\n",
      "Epoch 35/50\n",
      "8000/8000 [==============================] - 86s 11ms/step - loss: 0.0552 - accuracy: 0.9801 - val_loss: 0.1554 - val_accuracy: 0.9720\n",
      "Epoch 36/50\n",
      "8000/8000 [==============================] - 83s 10ms/step - loss: 0.0495 - accuracy: 0.9835 - val_loss: 0.1533 - val_accuracy: 0.9685\n",
      "Epoch 37/50\n",
      "8000/8000 [==============================] - 80s 10ms/step - loss: 0.0491 - accuracy: 0.9845 - val_loss: 0.1590 - val_accuracy: 0.9705\n",
      "Epoch 38/50\n",
      "8000/8000 [==============================] - 78s 10ms/step - loss: 0.0494 - accuracy: 0.9826 - val_loss: 0.1707 - val_accuracy: 0.9655\n",
      "Epoch 39/50\n",
      "8000/8000 [==============================] - 76s 10ms/step - loss: 0.0548 - accuracy: 0.9814 - val_loss: 0.1687 - val_accuracy: 0.9650\n",
      "Epoch 40/50\n",
      "8000/8000 [==============================] - 74s 9ms/step - loss: 0.0410 - accuracy: 0.9860 - val_loss: 0.1774 - val_accuracy: 0.9725\n",
      "Epoch 41/50\n",
      "8000/8000 [==============================] - 73s 9ms/step - loss: 0.0497 - accuracy: 0.9840 - val_loss: 0.1651 - val_accuracy: 0.9675\n",
      "Epoch 42/50\n",
      "8000/8000 [==============================] - 78s 10ms/step - loss: 0.0462 - accuracy: 0.9859 - val_loss: 0.1818 - val_accuracy: 0.9645\n",
      "Epoch 43/50\n",
      "8000/8000 [==============================] - 83s 10ms/step - loss: 0.0398 - accuracy: 0.9874 - val_loss: 0.1665 - val_accuracy: 0.9670\n",
      "Epoch 44/50\n",
      "8000/8000 [==============================] - 89s 11ms/step - loss: 0.0472 - accuracy: 0.9843 - val_loss: 0.1544 - val_accuracy: 0.9720\n",
      "Epoch 45/50\n",
      "8000/8000 [==============================] - 83s 10ms/step - loss: 0.0435 - accuracy: 0.9856 - val_loss: 0.1472 - val_accuracy: 0.9720\n",
      "Epoch 46/50\n",
      "8000/8000 [==============================] - 82s 10ms/step - loss: 0.0378 - accuracy: 0.9865 - val_loss: 0.1456 - val_accuracy: 0.9755\n",
      "Epoch 47/50\n",
      "8000/8000 [==============================] - 76s 10ms/step - loss: 0.0437 - accuracy: 0.9834 - val_loss: 0.1759 - val_accuracy: 0.9710\n",
      "Epoch 48/50\n",
      "8000/8000 [==============================] - 77s 10ms/step - loss: 0.0426 - accuracy: 0.9874 - val_loss: 0.1691 - val_accuracy: 0.9710\n",
      "Epoch 49/50\n",
      "8000/8000 [==============================] - 75s 9ms/step - loss: 0.0427 - accuracy: 0.9865 - val_loss: 0.1853 - val_accuracy: 0.9680\n",
      "Epoch 50/50\n",
      "8000/8000 [==============================] - 75s 9ms/step - loss: 0.0365 - accuracy: 0.9881 - val_loss: 0.1712 - val_accuracy: 0.9665\n"
     ]
    }
   ],
   "source": [
    "cepochs = 50\n",
    "historyc = modelc.fit(X_train, y_train, epochs=cepochs, batch_size=32, validation_split=0.2)"
   ]
  },
  {
   "cell_type": "code",
   "execution_count": 13,
   "metadata": {},
   "outputs": [
    {
     "name": "stdout",
     "output_type": "stream",
     "text": [
      "Model: \"sequential_1\"\n",
      "_________________________________________________________________\n",
      "Layer (type)                 Output Shape              Param #   \n",
      "=================================================================\n",
      "conv2d_1 (Conv2D)            (None, 64, 64, 64)        640       \n",
      "_________________________________________________________________\n",
      "p_re_lu_1 (PReLU)            (None, 64, 64, 64)        262144    \n",
      "_________________________________________________________________\n",
      "max_pooling2d_1 (MaxPooling2 (None, 32, 32, 64)        0         \n",
      "_________________________________________________________________\n",
      "conv2d_2 (Conv2D)            (None, 32, 32, 128)       73856     \n",
      "_________________________________________________________________\n",
      "p_re_lu_2 (PReLU)            (None, 32, 32, 128)       131072    \n",
      "_________________________________________________________________\n",
      "max_pooling2d_2 (MaxPooling2 (None, 16, 16, 128)       0         \n",
      "_________________________________________________________________\n",
      "conv2d_3 (Conv2D)            (None, 16, 16, 160)       184480    \n",
      "_________________________________________________________________\n",
      "p_re_lu_3 (PReLU)            (None, 16, 16, 160)       40960     \n",
      "_________________________________________________________________\n",
      "max_pooling2d_3 (MaxPooling2 (None, 8, 8, 160)         0         \n",
      "_________________________________________________________________\n",
      "conv2d_4 (Conv2D)            (None, 8, 8, 256)         368896    \n",
      "_________________________________________________________________\n",
      "p_re_lu_4 (PReLU)            (None, 8, 8, 256)         16384     \n",
      "_________________________________________________________________\n",
      "conv2d_5 (Conv2D)            (None, 8, 8, 256)         590080    \n",
      "_________________________________________________________________\n",
      "p_re_lu_5 (PReLU)            (None, 8, 8, 256)         16384     \n",
      "_________________________________________________________________\n",
      "max_pooling2d_4 (MaxPooling2 (None, 4, 4, 256)         0         \n",
      "_________________________________________________________________\n",
      "conv2d_6 (Conv2D)            (None, 4, 4, 384)         885120    \n",
      "_________________________________________________________________\n",
      "p_re_lu_6 (PReLU)            (None, 4, 4, 384)         6144      \n",
      "_________________________________________________________________\n",
      "conv2d_7 (Conv2D)            (None, 4, 4, 384)         1327488   \n",
      "_________________________________________________________________\n",
      "p_re_lu_7 (PReLU)            (None, 4, 4, 384)         6144      \n",
      "_________________________________________________________________\n",
      "max_pooling2d_5 (MaxPooling2 (None, 2, 2, 384)         0         \n",
      "_________________________________________________________________\n",
      "dropout_1 (Dropout)          (None, 2, 2, 384)         0         \n",
      "_________________________________________________________________\n",
      "flatten_1 (Flatten)          (None, 1536)              0         \n",
      "_________________________________________________________________\n",
      "dense_1 (Dense)              (None, 1024)              1573888   \n",
      "_________________________________________________________________\n",
      "p_re_lu_8 (PReLU)            (None, 1024)              1024      \n",
      "_________________________________________________________________\n",
      "dropout_2 (Dropout)          (None, 1024)              0         \n",
      "_________________________________________________________________\n",
      "dense_2 (Dense)              (None, 15)                15375     \n",
      "_________________________________________________________________\n",
      "p_re_lu_9 (PReLU)            (None, 15)                15        \n",
      "=================================================================\n",
      "Total params: 5,500,094\n",
      "Trainable params: 5,500,094\n",
      "Non-trainable params: 0\n",
      "_________________________________________________________________\n"
     ]
    }
   ],
   "source": [
    "from sklearn import metrics\n",
    "from keras import optimizers\n",
    "from keras.initializers import Constant\n",
    "from keras.models import Sequential\n",
    "from keras.layers import Dense, Conv2D, Flatten, MaxPool2D, Dropout, BatchNormalization,LeakyReLU\n",
    "from keras.preprocessing.image import ImageDataGenerator\n",
    "from keras.callbacks import ModelCheckpoint, Callback, EarlyStopping, ReduceLROnPlateau, LearningRateScheduler\n",
    "from keras.utils import to_categorical\n",
    "from keras.layers.advanced_activations import LeakyReLU, PReLU\n",
    "\n",
    "import warnings\n",
    "warnings.filterwarnings(\"ignore\", category=DeprecationWarning)\n",
    "import tensorflow as tf\n",
    "model=Sequential()\n",
    "\n",
    "model.add(Conv2D(filters = 64, kernel_size=(3,3), input_shape=(64, 64, 1), padding='same'))\n",
    "model.add(PReLU(alpha_initializer=Constant(value=0.25)))\n",
    "model.add(MaxPool2D(2))\n",
    "\n",
    "\n",
    "model.add(Conv2D(filters = 128, kernel_size=(3,3), padding='same'))\n",
    "model.add(PReLU(alpha_initializer=Constant(value=0.25)))\n",
    "model.add(MaxPool2D(2))\n",
    "\n",
    "\n",
    "model.add(Conv2D(filters = 160, kernel_size=(3,3),  padding='same'))\n",
    "model.add(PReLU(alpha_initializer=Constant(value=0.25)))\n",
    "model.add(MaxPool2D(2))\n",
    "\n",
    "\n",
    "model.add(Conv2D(filters = 256, kernel_size=(3,3), padding='same'))\n",
    "model.add(PReLU(alpha_initializer=Constant(value=0.25)))\n",
    "model.add(Conv2D(filters = 256, kernel_size=(3,3), padding='same'))\n",
    "model.add(PReLU(alpha_initializer=Constant(value=0.25)))\n",
    "model.add(MaxPool2D(2))\n",
    "\n",
    "\n",
    "model.add(Conv2D(filters = 384, kernel_size=(3,3),  padding='same'))\n",
    "model.add(PReLU(alpha_initializer=Constant(value=0.25)))\n",
    "model.add(Conv2D(filters = 384, kernel_size=(3,3), padding='same'))\n",
    "model.add(PReLU(alpha_initializer=Constant(value=0.25)))\n",
    "model.add(MaxPool2D(2))\n",
    "\n",
    "\n",
    "model.add(Dropout(0.5))\n",
    "model.add(Flatten())\n",
    "model.add(Dense(1024))\n",
    "model.add(PReLU(alpha_initializer=Constant(value=0.25)))\n",
    "model.add(Dropout(0.5))\n",
    "model.add(Dense(15, activation='softmax'))\n",
    "model.add(PReLU(alpha_initializer=Constant(value=0.25)))\n",
    "model.compile(optimizer='adam', loss='categorical_crossentropy', metrics=['accuracy'])\n",
    "\n",
    "model.summary()"
   ]
  },
  {
   "cell_type": "code",
   "execution_count": 14,
   "metadata": {},
   "outputs": [
    {
     "name": "stdout",
     "output_type": "stream",
     "text": [
      "Train on 8000 samples, validate on 2000 samples\n",
      "Epoch 1/50\n",
      "8000/8000 [==============================] - 636s 79ms/step - loss: 1.4140 - accuracy: 0.4974 - val_loss: 0.3144 - val_accuracy: 0.8840\n",
      "Epoch 2/50\n",
      "8000/8000 [==============================] - 506s 63ms/step - loss: 0.2869 - accuracy: 0.9114 - val_loss: 0.3625 - val_accuracy: 0.8990\n",
      "Epoch 3/50\n",
      "8000/8000 [==============================] - 502s 63ms/step - loss: 0.1538 - accuracy: 0.9575 - val_loss: 0.0858 - val_accuracy: 0.9715\n",
      "Epoch 4/50\n",
      "8000/8000 [==============================] - 503s 63ms/step - loss: 0.1004 - accuracy: 0.9725 - val_loss: 0.1533 - val_accuracy: 0.9555\n",
      "Epoch 5/50\n",
      "8000/8000 [==============================] - 506s 63ms/step - loss: 0.2103 - accuracy: 0.9485 - val_loss: 0.1582 - val_accuracy: 0.9600\n",
      "Epoch 6/50\n",
      "8000/8000 [==============================] - 501s 63ms/step - loss: 0.1497 - accuracy: 0.9643 - val_loss: 0.4563 - val_accuracy: 0.9265\n",
      "Epoch 7/50\n",
      "8000/8000 [==============================] - 506s 63ms/step - loss: 0.2544 - accuracy: 0.9455 - val_loss: 0.0654 - val_accuracy: 0.9800\n",
      "Epoch 8/50\n",
      "8000/8000 [==============================] - 513s 64ms/step - loss: 0.0550 - accuracy: 0.9862 - val_loss: 0.2011 - val_accuracy: 0.9630\n",
      "Epoch 9/50\n",
      "8000/8000 [==============================] - 508s 64ms/step - loss: 0.1049 - accuracy: 0.9766 - val_loss: 0.0626 - val_accuracy: 0.9855\n",
      "Epoch 10/50\n",
      "8000/8000 [==============================] - 506s 63ms/step - loss: 0.1368 - accuracy: 0.9744 - val_loss: 0.3279 - val_accuracy: 0.9570\n",
      "Epoch 11/50\n",
      "8000/8000 [==============================] - 505s 63ms/step - loss: 5.7686 - accuracy: 0.6186 - val_loss: 14.8931 - val_accuracy: 0.0760\n",
      "Epoch 12/50\n",
      "8000/8000 [==============================] - 503s 63ms/step - loss: 15.0506 - accuracy: 0.0661 - val_loss: 15.2397 - val_accuracy: 0.0545\n",
      "Epoch 13/50\n",
      "8000/8000 [==============================] - 503s 63ms/step - loss: 15.0704 - accuracy: 0.0650 - val_loss: 15.2397 - val_accuracy: 0.0545\n",
      "Epoch 14/50\n",
      "8000/8000 [==============================] - 502s 63ms/step - loss: 15.0704 - accuracy: 0.0650 - val_loss: 15.2397 - val_accuracy: 0.0545\n",
      "Epoch 15/50\n",
      "5856/8000 [====================>.........] - ETA: 2:12 - loss: 15.0392 - accuracy: 0.0669"
     ]
    },
    {
     "ename": "KeyboardInterrupt",
     "evalue": "",
     "output_type": "error",
     "traceback": [
      "\u001b[1;31m---------------------------------------------------------------------------\u001b[0m",
      "\u001b[1;31mKeyboardInterrupt\u001b[0m                         Traceback (most recent call last)",
      "\u001b[1;32m<ipython-input-14-f08af081334f>\u001b[0m in \u001b[0;36m<module>\u001b[1;34m\u001b[0m\n\u001b[0;32m      1\u001b[0m \u001b[0mcepochs\u001b[0m \u001b[1;33m=\u001b[0m \u001b[1;36m50\u001b[0m\u001b[1;33m\u001b[0m\u001b[1;33m\u001b[0m\u001b[0m\n\u001b[1;32m----> 2\u001b[1;33m \u001b[0mhistoryc\u001b[0m \u001b[1;33m=\u001b[0m \u001b[0mmodel\u001b[0m\u001b[1;33m.\u001b[0m\u001b[0mfit\u001b[0m\u001b[1;33m(\u001b[0m\u001b[0mX_train\u001b[0m\u001b[1;33m,\u001b[0m \u001b[0my_train\u001b[0m\u001b[1;33m,\u001b[0m \u001b[0mepochs\u001b[0m\u001b[1;33m=\u001b[0m\u001b[0mcepochs\u001b[0m\u001b[1;33m,\u001b[0m \u001b[0mbatch_size\u001b[0m\u001b[1;33m=\u001b[0m\u001b[1;36m32\u001b[0m\u001b[1;33m,\u001b[0m \u001b[0mvalidation_split\u001b[0m\u001b[1;33m=\u001b[0m\u001b[1;36m0.2\u001b[0m\u001b[1;33m)\u001b[0m\u001b[1;33m\u001b[0m\u001b[1;33m\u001b[0m\u001b[0m\n\u001b[0m",
      "\u001b[1;32m~\\anaconda3\\envs\\seongmin_test\\lib\\site-packages\\keras\\engine\\training.py\u001b[0m in \u001b[0;36mfit\u001b[1;34m(self, x, y, batch_size, epochs, verbose, callbacks, validation_split, validation_data, shuffle, class_weight, sample_weight, initial_epoch, steps_per_epoch, validation_steps, validation_freq, max_queue_size, workers, use_multiprocessing, **kwargs)\u001b[0m\n\u001b[0;32m   1237\u001b[0m                                         \u001b[0msteps_per_epoch\u001b[0m\u001b[1;33m=\u001b[0m\u001b[0msteps_per_epoch\u001b[0m\u001b[1;33m,\u001b[0m\u001b[1;33m\u001b[0m\u001b[1;33m\u001b[0m\u001b[0m\n\u001b[0;32m   1238\u001b[0m                                         \u001b[0mvalidation_steps\u001b[0m\u001b[1;33m=\u001b[0m\u001b[0mvalidation_steps\u001b[0m\u001b[1;33m,\u001b[0m\u001b[1;33m\u001b[0m\u001b[1;33m\u001b[0m\u001b[0m\n\u001b[1;32m-> 1239\u001b[1;33m                                         validation_freq=validation_freq)\n\u001b[0m\u001b[0;32m   1240\u001b[0m \u001b[1;33m\u001b[0m\u001b[0m\n\u001b[0;32m   1241\u001b[0m     def evaluate(self,\n",
      "\u001b[1;32m~\\anaconda3\\envs\\seongmin_test\\lib\\site-packages\\keras\\engine\\training_arrays.py\u001b[0m in \u001b[0;36mfit_loop\u001b[1;34m(model, fit_function, fit_inputs, out_labels, batch_size, epochs, verbose, callbacks, val_function, val_inputs, shuffle, initial_epoch, steps_per_epoch, validation_steps, validation_freq)\u001b[0m\n\u001b[0;32m    194\u001b[0m                     \u001b[0mins_batch\u001b[0m\u001b[1;33m[\u001b[0m\u001b[0mi\u001b[0m\u001b[1;33m]\u001b[0m \u001b[1;33m=\u001b[0m \u001b[0mins_batch\u001b[0m\u001b[1;33m[\u001b[0m\u001b[0mi\u001b[0m\u001b[1;33m]\u001b[0m\u001b[1;33m.\u001b[0m\u001b[0mtoarray\u001b[0m\u001b[1;33m(\u001b[0m\u001b[1;33m)\u001b[0m\u001b[1;33m\u001b[0m\u001b[1;33m\u001b[0m\u001b[0m\n\u001b[0;32m    195\u001b[0m \u001b[1;33m\u001b[0m\u001b[0m\n\u001b[1;32m--> 196\u001b[1;33m                 \u001b[0mouts\u001b[0m \u001b[1;33m=\u001b[0m \u001b[0mfit_function\u001b[0m\u001b[1;33m(\u001b[0m\u001b[0mins_batch\u001b[0m\u001b[1;33m)\u001b[0m\u001b[1;33m\u001b[0m\u001b[1;33m\u001b[0m\u001b[0m\n\u001b[0m\u001b[0;32m    197\u001b[0m                 \u001b[0mouts\u001b[0m \u001b[1;33m=\u001b[0m \u001b[0mto_list\u001b[0m\u001b[1;33m(\u001b[0m\u001b[0mouts\u001b[0m\u001b[1;33m)\u001b[0m\u001b[1;33m\u001b[0m\u001b[1;33m\u001b[0m\u001b[0m\n\u001b[0;32m    198\u001b[0m                 \u001b[1;32mfor\u001b[0m \u001b[0ml\u001b[0m\u001b[1;33m,\u001b[0m \u001b[0mo\u001b[0m \u001b[1;32min\u001b[0m \u001b[0mzip\u001b[0m\u001b[1;33m(\u001b[0m\u001b[0mout_labels\u001b[0m\u001b[1;33m,\u001b[0m \u001b[0mouts\u001b[0m\u001b[1;33m)\u001b[0m\u001b[1;33m:\u001b[0m\u001b[1;33m\u001b[0m\u001b[1;33m\u001b[0m\u001b[0m\n",
      "\u001b[1;32m~\\anaconda3\\envs\\seongmin_test\\lib\\site-packages\\tensorflow_core\\python\\keras\\backend.py\u001b[0m in \u001b[0;36m__call__\u001b[1;34m(self, inputs)\u001b[0m\n\u001b[0;32m   3725\u001b[0m         \u001b[0mvalue\u001b[0m \u001b[1;33m=\u001b[0m \u001b[0mmath_ops\u001b[0m\u001b[1;33m.\u001b[0m\u001b[0mcast\u001b[0m\u001b[1;33m(\u001b[0m\u001b[0mvalue\u001b[0m\u001b[1;33m,\u001b[0m \u001b[0mtensor\u001b[0m\u001b[1;33m.\u001b[0m\u001b[0mdtype\u001b[0m\u001b[1;33m)\u001b[0m\u001b[1;33m\u001b[0m\u001b[1;33m\u001b[0m\u001b[0m\n\u001b[0;32m   3726\u001b[0m       \u001b[0mconverted_inputs\u001b[0m\u001b[1;33m.\u001b[0m\u001b[0mappend\u001b[0m\u001b[1;33m(\u001b[0m\u001b[0mvalue\u001b[0m\u001b[1;33m)\u001b[0m\u001b[1;33m\u001b[0m\u001b[1;33m\u001b[0m\u001b[0m\n\u001b[1;32m-> 3727\u001b[1;33m     \u001b[0moutputs\u001b[0m \u001b[1;33m=\u001b[0m \u001b[0mself\u001b[0m\u001b[1;33m.\u001b[0m\u001b[0m_graph_fn\u001b[0m\u001b[1;33m(\u001b[0m\u001b[1;33m*\u001b[0m\u001b[0mconverted_inputs\u001b[0m\u001b[1;33m)\u001b[0m\u001b[1;33m\u001b[0m\u001b[1;33m\u001b[0m\u001b[0m\n\u001b[0m\u001b[0;32m   3728\u001b[0m \u001b[1;33m\u001b[0m\u001b[0m\n\u001b[0;32m   3729\u001b[0m     \u001b[1;31m# EagerTensor.numpy() will often make a copy to ensure memory safety.\u001b[0m\u001b[1;33m\u001b[0m\u001b[1;33m\u001b[0m\u001b[1;33m\u001b[0m\u001b[0m\n",
      "\u001b[1;32m~\\anaconda3\\envs\\seongmin_test\\lib\\site-packages\\tensorflow_core\\python\\eager\\function.py\u001b[0m in \u001b[0;36m__call__\u001b[1;34m(self, *args, **kwargs)\u001b[0m\n\u001b[0;32m   1549\u001b[0m       \u001b[0mTypeError\u001b[0m\u001b[1;33m:\u001b[0m \u001b[0mFor\u001b[0m \u001b[0minvalid\u001b[0m \u001b[0mpositional\u001b[0m\u001b[1;33m/\u001b[0m\u001b[0mkeyword\u001b[0m \u001b[0margument\u001b[0m \u001b[0mcombinations\u001b[0m\u001b[1;33m.\u001b[0m\u001b[1;33m\u001b[0m\u001b[1;33m\u001b[0m\u001b[0m\n\u001b[0;32m   1550\u001b[0m     \"\"\"\n\u001b[1;32m-> 1551\u001b[1;33m     \u001b[1;32mreturn\u001b[0m \u001b[0mself\u001b[0m\u001b[1;33m.\u001b[0m\u001b[0m_call_impl\u001b[0m\u001b[1;33m(\u001b[0m\u001b[0margs\u001b[0m\u001b[1;33m,\u001b[0m \u001b[0mkwargs\u001b[0m\u001b[1;33m)\u001b[0m\u001b[1;33m\u001b[0m\u001b[1;33m\u001b[0m\u001b[0m\n\u001b[0m\u001b[0;32m   1552\u001b[0m \u001b[1;33m\u001b[0m\u001b[0m\n\u001b[0;32m   1553\u001b[0m   \u001b[1;32mdef\u001b[0m \u001b[0m_call_impl\u001b[0m\u001b[1;33m(\u001b[0m\u001b[0mself\u001b[0m\u001b[1;33m,\u001b[0m \u001b[0margs\u001b[0m\u001b[1;33m,\u001b[0m \u001b[0mkwargs\u001b[0m\u001b[1;33m,\u001b[0m \u001b[0mcancellation_manager\u001b[0m\u001b[1;33m=\u001b[0m\u001b[1;32mNone\u001b[0m\u001b[1;33m)\u001b[0m\u001b[1;33m:\u001b[0m\u001b[1;33m\u001b[0m\u001b[1;33m\u001b[0m\u001b[0m\n",
      "\u001b[1;32m~\\anaconda3\\envs\\seongmin_test\\lib\\site-packages\\tensorflow_core\\python\\eager\\function.py\u001b[0m in \u001b[0;36m_call_impl\u001b[1;34m(self, args, kwargs, cancellation_manager)\u001b[0m\n\u001b[0;32m   1589\u001b[0m       raise TypeError(\"Keyword arguments {} unknown. Expected {}.\".format(\n\u001b[0;32m   1590\u001b[0m           list(kwargs.keys()), list(self._arg_keywords)))\n\u001b[1;32m-> 1591\u001b[1;33m     \u001b[1;32mreturn\u001b[0m \u001b[0mself\u001b[0m\u001b[1;33m.\u001b[0m\u001b[0m_call_flat\u001b[0m\u001b[1;33m(\u001b[0m\u001b[0margs\u001b[0m\u001b[1;33m,\u001b[0m \u001b[0mself\u001b[0m\u001b[1;33m.\u001b[0m\u001b[0mcaptured_inputs\u001b[0m\u001b[1;33m,\u001b[0m \u001b[0mcancellation_manager\u001b[0m\u001b[1;33m)\u001b[0m\u001b[1;33m\u001b[0m\u001b[1;33m\u001b[0m\u001b[0m\n\u001b[0m\u001b[0;32m   1592\u001b[0m \u001b[1;33m\u001b[0m\u001b[0m\n\u001b[0;32m   1593\u001b[0m   \u001b[1;32mdef\u001b[0m \u001b[0m_filtered_call\u001b[0m\u001b[1;33m(\u001b[0m\u001b[0mself\u001b[0m\u001b[1;33m,\u001b[0m \u001b[0margs\u001b[0m\u001b[1;33m,\u001b[0m \u001b[0mkwargs\u001b[0m\u001b[1;33m)\u001b[0m\u001b[1;33m:\u001b[0m\u001b[1;33m\u001b[0m\u001b[1;33m\u001b[0m\u001b[0m\n",
      "\u001b[1;32m~\\anaconda3\\envs\\seongmin_test\\lib\\site-packages\\tensorflow_core\\python\\eager\\function.py\u001b[0m in \u001b[0;36m_call_flat\u001b[1;34m(self, args, captured_inputs, cancellation_manager)\u001b[0m\n\u001b[0;32m   1690\u001b[0m       \u001b[1;31m# No tape is watching; skip to running the function.\u001b[0m\u001b[1;33m\u001b[0m\u001b[1;33m\u001b[0m\u001b[1;33m\u001b[0m\u001b[0m\n\u001b[0;32m   1691\u001b[0m       return self._build_call_outputs(self._inference_function.call(\n\u001b[1;32m-> 1692\u001b[1;33m           ctx, args, cancellation_manager=cancellation_manager))\n\u001b[0m\u001b[0;32m   1693\u001b[0m     forward_backward = self._select_forward_and_backward_functions(\n\u001b[0;32m   1694\u001b[0m         \u001b[0margs\u001b[0m\u001b[1;33m,\u001b[0m\u001b[1;33m\u001b[0m\u001b[1;33m\u001b[0m\u001b[0m\n",
      "\u001b[1;32m~\\anaconda3\\envs\\seongmin_test\\lib\\site-packages\\tensorflow_core\\python\\eager\\function.py\u001b[0m in \u001b[0;36mcall\u001b[1;34m(self, ctx, args, cancellation_manager)\u001b[0m\n\u001b[0;32m    543\u001b[0m               \u001b[0minputs\u001b[0m\u001b[1;33m=\u001b[0m\u001b[0margs\u001b[0m\u001b[1;33m,\u001b[0m\u001b[1;33m\u001b[0m\u001b[1;33m\u001b[0m\u001b[0m\n\u001b[0;32m    544\u001b[0m               \u001b[0mattrs\u001b[0m\u001b[1;33m=\u001b[0m\u001b[1;33m(\u001b[0m\u001b[1;34m\"executor_type\"\u001b[0m\u001b[1;33m,\u001b[0m \u001b[0mexecutor_type\u001b[0m\u001b[1;33m,\u001b[0m \u001b[1;34m\"config_proto\"\u001b[0m\u001b[1;33m,\u001b[0m \u001b[0mconfig\u001b[0m\u001b[1;33m)\u001b[0m\u001b[1;33m,\u001b[0m\u001b[1;33m\u001b[0m\u001b[1;33m\u001b[0m\u001b[0m\n\u001b[1;32m--> 545\u001b[1;33m               ctx=ctx)\n\u001b[0m\u001b[0;32m    546\u001b[0m         \u001b[1;32melse\u001b[0m\u001b[1;33m:\u001b[0m\u001b[1;33m\u001b[0m\u001b[1;33m\u001b[0m\u001b[0m\n\u001b[0;32m    547\u001b[0m           outputs = execute.execute_with_cancellation(\n",
      "\u001b[1;32m~\\anaconda3\\envs\\seongmin_test\\lib\\site-packages\\tensorflow_core\\python\\eager\\execute.py\u001b[0m in \u001b[0;36mquick_execute\u001b[1;34m(op_name, num_outputs, inputs, attrs, ctx, name)\u001b[0m\n\u001b[0;32m     59\u001b[0m     tensors = pywrap_tensorflow.TFE_Py_Execute(ctx._handle, device_name,\n\u001b[0;32m     60\u001b[0m                                                \u001b[0mop_name\u001b[0m\u001b[1;33m,\u001b[0m \u001b[0minputs\u001b[0m\u001b[1;33m,\u001b[0m \u001b[0mattrs\u001b[0m\u001b[1;33m,\u001b[0m\u001b[1;33m\u001b[0m\u001b[1;33m\u001b[0m\u001b[0m\n\u001b[1;32m---> 61\u001b[1;33m                                                num_outputs)\n\u001b[0m\u001b[0;32m     62\u001b[0m   \u001b[1;32mexcept\u001b[0m \u001b[0mcore\u001b[0m\u001b[1;33m.\u001b[0m\u001b[0m_NotOkStatusException\u001b[0m \u001b[1;32mas\u001b[0m \u001b[0me\u001b[0m\u001b[1;33m:\u001b[0m\u001b[1;33m\u001b[0m\u001b[1;33m\u001b[0m\u001b[0m\n\u001b[0;32m     63\u001b[0m     \u001b[1;32mif\u001b[0m \u001b[0mname\u001b[0m \u001b[1;32mis\u001b[0m \u001b[1;32mnot\u001b[0m \u001b[1;32mNone\u001b[0m\u001b[1;33m:\u001b[0m\u001b[1;33m\u001b[0m\u001b[1;33m\u001b[0m\u001b[0m\n",
      "\u001b[1;31mKeyboardInterrupt\u001b[0m: "
     ]
    }
   ],
   "source": [
    "cepochs = 50\n",
    "historyc = model.fit(X_train, y_train, epochs=cepochs, batch_size=32, validation_split=0.2)"
   ]
  },
  {
   "cell_type": "code",
   "execution_count": null,
   "metadata": {},
   "outputs": [],
   "source": []
  }
 ],
 "metadata": {
  "kernelspec": {
   "display_name": "Python 3",
   "language": "python",
   "name": "python3"
  },
  "language_info": {
   "codemirror_mode": {
    "name": "ipython",
    "version": 3
   },
   "file_extension": ".py",
   "mimetype": "text/x-python",
   "name": "python",
   "nbconvert_exporter": "python",
   "pygments_lexer": "ipython3",
   "version": "3.6.12"
  }
 },
 "nbformat": 4,
 "nbformat_minor": 4
}
