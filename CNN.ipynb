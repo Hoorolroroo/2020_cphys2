{
 "cells": [
  {
   "cell_type": "markdown",
   "metadata": {},
   "source": [
    "## Fashion Mnist"
   ]
  },
  {
   "cell_type": "markdown",
   "metadata": {},
   "source": [
    "### MNIST 패션 이미지를 CNN을 이용하여 분류하세요. CNN을 이용한 분류 결과를 MLP와 비교해보세요.\n"
   ]
  },
  {
   "cell_type": "code",
   "execution_count": 10,
   "metadata": {},
   "outputs": [],
   "source": [
    "from tensorflow import keras\n",
    "from keras import models \n",
    "from keras import layers\n",
    "import numpy as np\n",
    "import matplotlib.pyplot as plt\n",
    "from keras.utils import to_categorical\n",
    "from keras.datasets import fashion_mnist\n",
    "import pandas as pd"
   ]
  },
  {
   "cell_type": "markdown",
   "metadata": {},
   "source": [
    "#### MLP"
   ]
  },
  {
   "cell_type": "code",
   "execution_count": 16,
   "metadata": {},
   "outputs": [],
   "source": [
    "(X_train, y_train), (X_test, y_test) = fashion_mnist.load_data()\n",
    "y_train=to_categorical(y_train)\n",
    "y_test=to_categorical(y_test)\n",
    "\n",
    "# preprocessing\n",
    "X_train = X_train.reshape((60000, 28*28))\n",
    "X_train = X_train/255\n",
    "\n",
    "X_test = X_test.reshape((10000, 28*28))\n",
    "X_test = X_test/255\n",
    "\n",
    "net = models.Sequential()\n",
    "net.add(layers.Dense(512, activation='relu', input_shape=(28*28,))) \n",
    "net.add(layers.Dense(512, activation='relu')) \n",
    "net.add(layers.Dropout(0.5))\n",
    "net.add(layers.Dense(512, activation='relu')) \n",
    "net.add(layers.Dropout(0.5))\n",
    "net.add(layers.Dense(10, activation='softmax')) \n",
    "net.compile(optimizer='nadam',loss='categorical_crossentropy',metrics=['acc'])"
   ]
  },
  {
   "cell_type": "code",
   "execution_count": 17,
   "metadata": {},
   "outputs": [],
   "source": [
    "X_val = X_train[:10000]\n",
    "partial_X_train = X_train[10000:]\n",
    "\n",
    "y_val = y_train[:10000]\n",
    "partial_y_train = y_train[10000:]"
   ]
  },
  {
   "cell_type": "code",
   "execution_count": 18,
   "metadata": {},
   "outputs": [
    {
     "name": "stdout",
     "output_type": "stream",
     "text": [
      "Train on 50000 samples, validate on 10000 samples\n",
      "Epoch 1/10\n",
      "50000/50000 [==============================] - 60s 1ms/step - loss: 0.5751 - acc: 0.7940 - val_loss: 0.7241 - val_acc: 0.7552\n",
      "Epoch 2/10\n",
      "50000/50000 [==============================] - 71s 1ms/step - loss: 0.4218 - acc: 0.8508 - val_loss: 0.3761 - val_acc: 0.8656\n",
      "Epoch 3/10\n",
      "50000/50000 [==============================] - 89s 2ms/step - loss: 0.3835 - acc: 0.8655 - val_loss: 0.4576 - val_acc: 0.8304\n",
      "Epoch 4/10\n",
      "50000/50000 [==============================] - 59s 1ms/step - loss: 0.3638 - acc: 0.8722 - val_loss: 0.3856 - val_acc: 0.8586\n",
      "Epoch 5/10\n",
      "50000/50000 [==============================] - 66s 1ms/step - loss: 0.3448 - acc: 0.8773 - val_loss: 0.3435 - val_acc: 0.8749\n",
      "Epoch 6/10\n",
      "50000/50000 [==============================] - 68s 1ms/step - loss: 0.3401 - acc: 0.8794 - val_loss: 0.3744 - val_acc: 0.8577\n",
      "Epoch 7/10\n",
      "50000/50000 [==============================] - 78s 2ms/step - loss: 0.3339 - acc: 0.8804 - val_loss: 0.3432 - val_acc: 0.8794\n",
      "Epoch 8/10\n",
      "50000/50000 [==============================] - 71s 1ms/step - loss: 0.3219 - acc: 0.8847 - val_loss: 0.3782 - val_acc: 0.8587\n",
      "Epoch 9/10\n",
      "50000/50000 [==============================] - 64s 1ms/step - loss: 0.3133 - acc: 0.8869 - val_loss: 0.3497 - val_acc: 0.8763\n",
      "Epoch 10/10\n",
      "50000/50000 [==============================] - 60s 1ms/step - loss: 0.3177 - acc: 0.8869 - val_loss: 0.3723 - val_acc: 0.8740\n"
     ]
    }
   ],
   "source": [
    "val= net.fit(partial_X_train,partial_y_train,epochs=10, batch_size=64, validation_data=(X_val, y_val))"
   ]
  },
  {
   "cell_type": "code",
   "execution_count": 20,
   "metadata": {},
   "outputs": [
    {
     "name": "stdout",
     "output_type": "stream",
     "text": [
      "10000/10000 [==============================] - 2s 244us/step\n"
     ]
    }
   ],
   "source": [
    "test_loss, test_acc = net.evaluate(X_test,y_test)"
   ]
  },
  {
   "cell_type": "code",
   "execution_count": 21,
   "metadata": {},
   "outputs": [
    {
     "data": {
      "text/plain": [
       "0.8651000261306763"
      ]
     },
     "execution_count": 21,
     "metadata": {},
     "output_type": "execute_result"
    }
   ],
   "source": [
    "test_acc"
   ]
  },
  {
   "cell_type": "markdown",
   "metadata": {},
   "source": [
    "#### CNN"
   ]
  },
  {
   "cell_type": "code",
   "execution_count": 3,
   "metadata": {},
   "outputs": [],
   "source": [
    "(Q_train, w_train), (Q_test, w_test) = fashion_mnist.load_data()\n",
    "\n",
    "# preprocessing\n",
    "Q_train = Q_train.reshape((60000, 28, 28, 1))\n",
    "Q_train = Q_train.astype('float32') / 255\n",
    "\n",
    "Q_test = Q_test.reshape((10000, 28, 28, 1))\n",
    "Q_test = Q_test.astype('float32') / 255\n",
    "\n",
    "w_train=to_categorical(w_train)\n",
    "w_test=to_categorical(w_test)\n",
    "\n",
    "Q_val = Q_train[:10000]\n",
    "partial_Q_train = Q_train[10000:]\n",
    "\n",
    "w_val = w_train[:10000]\n",
    "partial_w_train = w_train[10000:]"
   ]
  },
  {
   "cell_type": "code",
   "execution_count": 4,
   "metadata": {},
   "outputs": [],
   "source": [
    "nel = models.Sequential()\n",
    "nel.add(layers.Conv2D(32,(3,3), activation='relu', input_shape=(28,28,1)))\n",
    "nel.add(layers.MaxPooling2D((2,2)))\n",
    "nel.add(layers.Conv2D(64,(3,3), activation='relu')) \n",
    "nel.add(layers.MaxPooling2D((2,2)))\n",
    "nel.add(layers.Conv2D(64,(3,3), activation='relu'))\n",
    "nel.add(layers.Flatten())\n",
    "nel.add(layers.Dense(512, activation='relu')) \n",
    "nel.add(layers.Dropout(0.5)) \n",
    "nel.add(layers.Dense(64, activation='relu')) \n",
    "nel.add(layers.Dropout(0.5))\n",
    "nel.add(layers.Dense(10, activation='softmax')) \n",
    "nel.compile(optimizer='nadam',loss='categorical_crossentropy',metrics=['acc'])"
   ]
  },
  {
   "cell_type": "code",
   "execution_count": 5,
   "metadata": {},
   "outputs": [
    {
     "name": "stdout",
     "output_type": "stream",
     "text": [
      "Train on 50000 samples, validate on 10000 samples\n",
      "Epoch 1/10\n",
      "50000/50000 [==============================] - 103s 2ms/step - loss: 0.6465 - acc: 0.7662 - val_loss: 0.5622 - val_acc: 0.8008\n",
      "Epoch 2/10\n",
      "50000/50000 [==============================] - 87s 2ms/step - loss: 0.4078 - acc: 0.8588 - val_loss: 0.3681 - val_acc: 0.8595\n",
      "Epoch 3/10\n",
      "50000/50000 [==============================] - 96s 2ms/step - loss: 0.3511 - acc: 0.8777 - val_loss: 0.3094 - val_acc: 0.8893\n",
      "Epoch 4/10\n",
      "50000/50000 [==============================] - 80s 2ms/step - loss: 0.2949 - acc: 0.8987 - val_loss: 0.2738 - val_acc: 0.9027\n",
      "Epoch 6/10\n",
      "50000/50000 [==============================] - 82s 2ms/step - loss: 0.2771 - acc: 0.9026 - val_loss: 0.2792 - val_acc: 0.8950\n",
      "Epoch 7/10\n",
      "50000/50000 [==============================] - 81s 2ms/step - loss: 0.2479 - acc: 0.9113 - val_loss: 0.2667 - val_acc: 0.9076\n",
      "Epoch 9/10\n",
      "50000/50000 [==============================] - 88s 2ms/step - loss: 0.2401 - acc: 0.9151 - val_loss: 0.2991 - val_acc: 0.8980\n",
      "Epoch 10/10\n",
      "50000/50000 [==============================] - 88s 2ms/step - loss: 0.2348 - acc: 0.9162 - val_loss: 0.2731 - val_acc: 0.9054\n"
     ]
    }
   ],
   "source": [
    "val= nel.fit(partial_Q_train,partial_w_train,epochs=10, batch_size=64, validation_data=(Q_val, w_val))"
   ]
  },
  {
   "cell_type": "code",
   "execution_count": 11,
   "metadata": {},
   "outputs": [],
   "source": [
    "val_dict = val.history\n",
    "loss = val_dict['loss']\n",
    "val_loss = val_dict['val_loss']"
   ]
  },
  {
   "cell_type": "code",
   "execution_count": 33,
   "metadata": {},
   "outputs": [
    {
     "data": {
      "text/plain": [
       "Text(0.5, 1.0, 'loss by epoches')"
      ]
     },
     "execution_count": 33,
     "metadata": {},
     "output_type": "execute_result"
    },
    {
     "data": {
      "image/png": "[encoded data removed]",
      "text/plain": [
       "<Figure size 720x360 with 1 Axes>"
      ]
     },
     "metadata": {
      "needs_background": "light"
     },
     "output_type": "display_data"
    }
   ],
   "source": [
    "x = np.arange(0,len(loss))\n",
    "plt.figure(figsize=(10,5))\n",
    "plt.plot(x,loss,'bo',label='E')\n",
    "plt.plot(x,val_loss,'ro',label='$E_v$')\n",
    "plt.legend(fontsize='x-large')\n",
    "plt.title(\"loss by epoches\", fontsize='15')"
   ]
  },
  {
   "cell_type": "code",
   "execution_count": 34,
   "metadata": {},
   "outputs": [
    {
     "data": {
      "text/plain": [
       "Text(0.5, 1.0, 'accruary by epoches')"
      ]
     },
     "execution_count": 34,
     "metadata": {},
     "output_type": "execute_result"
    },
    {
     "data": {
      "image/png": "[encoded data removed]",
      "text/plain": [
       "<Figure size 720x360 with 1 Axes>"
      ]
     },
     "metadata": {
      "needs_background": "light"
     },
     "output_type": "display_data"
    }
   ],
   "source": [
    "plt.figure(figsize=(10,5))\n",
    "acc = val_dict['acc']\n",
    "val_acc = val_dict['val_acc']\n",
    "plt.plot(x,acc,'bo', label='Accuracy')\n",
    "plt.plot(x,val_acc,'ro', label='$A_v$')\n",
    "plt.legend(fontsize='x-large')\n",
    "plt.title(\"accruary by epoches\", fontsize=15)"
   ]
  },
  {
   "cell_type": "code",
   "execution_count": 39,
   "metadata": {},
   "outputs": [
    {
     "name": "stdout",
     "output_type": "stream",
     "text": [
      "10000/10000 [==============================] - 5s 535us/step\n"
     ]
    }
   ],
   "source": [
    "test_loss, test_acc = nel.evaluate(Q_test,w_test)"
   ]
  },
  {
   "cell_type": "code",
   "execution_count": 40,
   "metadata": {},
   "outputs": [
    {
     "data": {
      "text/plain": [
       "0.8985000252723694"
      ]
     },
     "execution_count": 40,
     "metadata": {},
     "output_type": "execute_result"
    }
   ],
   "source": [
    "test_acc"
   ]
  },
  {
   "cell_type": "code",
   "execution_count": 44,
   "metadata": {},
   "outputs": [
    {
     "data": {
      "text/html": [
       "<div>\n",
       "<style scoped>\n",
       "    .dataframe tbody tr th:only-of-type {\n",
       "        vertical-align: middle;\n",
       "    }\n",
       "\n",
       "    .dataframe tbody tr th {\n",
       "        vertical-align: top;\n",
       "    }\n",
       "\n",
       "    .dataframe thead th {\n",
       "        text-align: right;\n",
       "    }\n",
       "</style>\n",
       "<table border=\"1\" class=\"dataframe\">\n",
       "  <thead>\n",
       "    <tr style=\"text-align: right;\">\n",
       "      <th></th>\n",
       "      <th>Test Data Accuracy</th>\n",
       "    </tr>\n",
       "  </thead>\n",
       "  <tbody>\n",
       "    <tr>\n",
       "      <th>MLP</th>\n",
       "      <td>86.5%</td>\n",
       "    </tr>\n",
       "    <tr>\n",
       "      <th>CNN</th>\n",
       "      <td>89.8%</td>\n",
       "    </tr>\n",
       "  </tbody>\n",
       "</table>\n",
       "</div>"
      ],
      "text/plain": [
       "    Test Data Accuracy\n",
       "MLP              86.5%\n",
       "CNN              89.8%"
      ]
     },
     "metadata": {},
     "output_type": "display_data"
    }
   ],
   "source": [
    "df = pd.DataFrame(data=np.array([['86.5%'], ['89.8%']]), index= ['MLP', 'CNN'], columns=['Test Data Accuracy'])\n",
    "display(df)\n"
   ]
  },
  {
   "cell_type": "markdown",
   "metadata": {},
   "source": [
    "### ※결론\n",
    "**MLP보다 CNN을 이용한 기법이 정확도가 좀 더 높게 나왔습니다.\n",
    "아무래도 합성곱을 이용한 이미지 분석이 정확도를 높이는데 많은 기여를 한 것 같습니다.**"
   ]
  }
 ],
 "metadata": {
  "kernelspec": {
   "display_name": "Python 3",
   "language": "python",
   "name": "python3"
  },
  "language_info": {
   "codemirror_mode": {
    "name": "ipython",
    "version": 3
   },
   "file_extension": ".py",
   "mimetype": "text/x-python",
   "name": "python",
   "nbconvert_exporter": "python",
   "pygments_lexer": "ipython3",
   "version": "3.6.12"
  }
 },
 "nbformat": 4,
 "nbformat_minor": 4
}
